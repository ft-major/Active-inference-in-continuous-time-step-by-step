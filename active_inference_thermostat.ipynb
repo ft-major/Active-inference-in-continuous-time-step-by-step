{
 "cells": [
  {
   "cell_type": "markdown",
   "metadata": {
    "nteract": {
     "transient": {
      "deleting": false
     }
    }
   },
   "source": [
    "# Example of Thermostat based on Active Inference\n",
    "this program is an example of an single agent-based active inference model,."
   ]
  },
  {
   "cell_type": "markdown",
   "metadata": {
    "nteract": {
     "transient": {
      "deleting": false
     }
    }
   },
   "source": [
    "## Generative process\n",
    "the _generative process_ consist of an agent that, depending on his 1-D position $x$,\n",
    "modifies the room temperature in the following manner\n",
    "$$\n",
    "T(x) = \\frac{ T_0 }{ x^2 + 1 }\n",
    "$$\n",
    "with $T_{0}$ temperature at the origin.\n",
    "\n",
    "The agent is allowed to sense both the local temperature and its temporal derivative. In particular\n",
    "$$\n",
    "s = T + z_{s}^{gp} \\\\\n",
    "s' = T' + z_{s'}^{gp} = \\frac{ \\partial T }{ \\partial x } \\frac{ \\partial x }{ \\partial t } + z_{s'}^{gp} = - \\frac{ 2x T_{0} }{ (x^2+1)^2 } x' + z_{s'}^{gp}\n",
    "$$\n",
    "where $z_{s}^{gp}$ and $z_{s'}^{gp}$ are normally distributed noise with zero mean and variances $\\Sigma_{s}^{gp}$ and $\\Sigma_{s'}^{gp}$\n",
    "(the gp superscript indicates that is part of the agent's environment described by the generative process and, for the moment, has nothing to do with the brain model).\n",
    "\n",
    "Finally, the agent is allowed to set its own velocity by setting it equal to the action variable $a$ as\n",
    "$$ x'=a $$"
   ]
  },
  {
   "cell_type": "markdown",
   "metadata": {
    "nteract": {
     "transient": {
      "deleting": false
     }
    }
   },
   "source": [
    "## Generative model\n",
    "\n",
    "let's specify the dynamical model of the brain that allows to build a minimization scheme for the VFE, remembering that with the **Laplace approximation**\n",
    "$$\n",
    "F \\equiv \\int Q(T) \\ln \\frac{Q(T)}{P(T,s)}dx \\approx L(\\mu,s) \\equiv - \\ln P(\\mu,s)\n",
    "$$\n",
    "we are assuming that the brain represents, through the brain state $\\mu$, only the most likely environmental cause T of sensory data s.\n",
    "\n",
    "Let's start assuming that the agent believes that the world's dynamic is given by an exact thermostat dynamic with differential equation\n",
    "$$\n",
    "\\mu' = f(\\mu) + z_{\\mu} \\text{with} \\quad f(\\mu) \\equiv - \\mu + T_{des} \\, .\n",
    "$$\n",
    "Using the local linearity approximation, the agent will represents up to the second order of $\\mu$:\n",
    "$$\n",
    "\\mu'' = \\frac{ \\partial f}{ \\partial \\mu } \\mu' + z_{\\mu'} \\\\\n",
    "\\mu''' = z_{\\mu''}\n",
    "$$\n",
    "Here the third term is specified to explain that, to consider the dynamic up to the second order,\n",
    "the next order is set equal only to a Gaussian noise with large variance $\\Sigma_{\\mu''}$ so that it can be effectively eliminated from the VFE expression.\n",
    "\n",
    "Is important to note that in this formulation the agent does not desire to be at $T_{des}$ (the prior $P(\\mu)$ is omitted since is a flat distribution),\n",
    "but believes in an environment with an equilibrium point at $T_{des}$ that works as attractor.\n"
   ]
  },
  {
   "cell_type": "markdown",
   "metadata": {
    "nteract": {
     "transient": {
      "deleting": false
     }
    }
   },
   "source": [
    "## Laplace-encoded Energy\n",
    "Now we can write explicitly the joint density $P(\\mu,s)$\n",
    "$$\n",
    "P(\\tilde{\\mu}, \\tilde{s}) \\simeq P(s|\\mu) P(s'|\\mu') P(\\mu'|\\mu) P(\\mu''|\\mu') = \\mathcal{N}(s;\\mu,\\Sigma_{s}) \\mathcal{N}(s';\\mu',\\Sigma_{s'}) \\mathcal{N}(\\mu';\\mu-T_{des},\\Sigma_{\\mu}) \\mathcal{N}(\\mu'';-\\mu',\\Sigma_{\\mu'})\n",
    "$$\n",
    "that leads to a Variational Free Energy approximated a the Laplace-encoded Energy\n",
    "$$\n",
    "L(\\tilde{\\mu}, \\tilde{s}) = \\frac{ 1 }{ 2 } \\left[ \\frac{ \\varepsilon_{s}^2 }{ \\Sigma_{s} } + \\frac{ \\varepsilon_{s'}^2 }{ \\Sigma_{s'} } +\n",
    "\\frac{ \\varepsilon_{\\mu}^2 }{ \\Sigma_{\\mu} } + \\frac{ \\varepsilon_{\\mu'}^2 }{ \\Sigma_{\\mu'} } \\right] + \\frac{ 1 }{ 2 } \\ln (\\Sigma_{s} \\Sigma_{s'} \\Sigma_{\\mu} \\Sigma_{\\mu'}) + 2 \\ln (2\\pi)\n",
    "$$\n",
    "with\n",
    "$$\n",
    "\\begin{aligned}\n",
    "\\varepsilon_{s} &= s-\\mu \\\\\n",
    "\\varepsilon_{s'} &= s'-\\mu' \\\\\n",
    "\\varepsilon_{\\mu} &= \\mu'+\\mu-T_{des} \\\\\n",
    "\\varepsilon_{\\mu'} &= \\mu''+\\mu'\n",
    "\\end{aligned}\n",
    "$$"
   ]
  },
  {
   "cell_type": "markdown",
   "metadata": {
    "nteract": {
     "transient": {
      "deleting": false
     }
    }
   },
   "source": [
    "## Gradient descent\n",
    "\n",
    "In the Active Inference framework, the agent uses a gradient descent scheme to minimize VFE. In particular, the brain state variables $\\tilde{\\mu}$ will be updated following\n",
    "$$\n",
    "\\begin{aligned}\n",
    "\\mu(t+dt) &= \\mu(t) + \\mu'(t) dt - k_{\\mu} \\frac{ \\partial L }{ \\partial \\mu } = \\mu(t) + \\mu'(t) dt - k_{\\mu} \\left[ -\\frac{ \\varepsilon_s }{ \\Sigma_{s} } + \\frac{ \\varepsilon_{\\mu} }{ \\Sigma_{\\mu} } \\right] \\\\\n",
    "\\mu'(t+dt) &= \\mu'(t) + \\mu''(t) dt - k_{\\mu} \\frac{ \\partial L }{ \\partial \\mu' } = \\mu'(t) + \\mu'(t) dt - k_{\\mu} \\left[ -\\frac{ \\varepsilon_{s'} }{ \\Sigma_{s'} } + \\frac{ \\varepsilon_{\\mu} }{ \\Sigma_{\\mu} } + \\frac{ \\varepsilon_{\\mu'} }{ \\Sigma_{\\mu'} } \\right] \\\\\n",
    "\\mu''(t+dt) &= \\mu''(t) - k_{\\mu} \\frac{ \\partial L }{ \\partial \\mu'' } = \\mu''(t) - k_{\\mu} \\left[ \\frac{ \\varepsilon_{\\mu'} }{ \\Sigma_{\\mu'} } \\right]\n",
    "\\end{aligned}\n",
    "$$\n",
    "with the $k_{\\mu}$ parameter to be tuned."
   ]
  },
  {
   "cell_type": "markdown",
   "metadata": {
    "nteract": {
     "transient": {
      "deleting": false
     }
    }
   },
   "source": [
    "## Action\n",
    "To perform an action the agent has to minimize, always through a gradient denscent, the VFE with respect to the action variable, that in this case is equal to $x'$ since the agent is allowed to set is own velocity.\n",
    "\n",
    "Here we are assuming that the agent has also an inverse model that allows it to know the effects of its actions on the sensory imputs (i.e. it knows that $\\mu(x) = \\frac{ T_0 }{ x^2 +1 }$ and $\\mu'(x,x')=\\frac{ d\\mu }{ dx } x' = -T_0\\frac{ 2x }{ (x^2+1)^2 } x'$ )\n",
    "$$\n",
    "\\begin{aligned}\n",
    "\\frac{ ds }{ da } &= \\frac{ ds }{ dx' } = \\frac{ d }{ dx' } (\\mu + z_{\\mu}) = 0 \\\\\n",
    "\\frac{ ds' }{ da } &= \\frac{ ds' }{ dx' } = \\frac{ d }{ dx' } (\\mu' + z_{\\mu'}) = \\frac{ d\\mu' }{ dx' } = -T_0\\frac{ 2x }{ (x^2+1)^2 }\n",
    "\\end{aligned}\n",
    "$$\n",
    "Using this inverse model the gradient descent with restpec to action will be\n",
    "$$\n",
    "x'(t+dt) = x'(t) - k_{a} \\left[ \\frac{ \\partial F }{ \\partial x' } \\right] = x'(t) - k_{a} \\left[ \\frac{ \\partial F }{ \\partial s' } \\frac{ \\partial s' }{ dx' } \\right] = x'(t) - k_{a} \\left[ \\frac{ \\varepsilon_{s'} }{ \\Sigma_{s'} } (-T_0\\frac{ 2x }{ (x^2+1)^2 }) \\right]\n",
    "$$\n"
   ]
  },
  {
   "cell_type": "markdown",
   "metadata": {
    "nteract": {
     "transient": {
      "deleting": false
     }
    }
   },
   "source": [
    "# Code\n"
   ]
  },
  {
   "cell_type": "markdown",
   "metadata": {
    "nteract": {
     "transient": {
      "deleting": false
     }
    }
   },
   "source": [
    "## Functions"
   ]
  },
  {
   "cell_type": "code",
   "execution_count": 1,
   "metadata": {
    "nteract": {
     "transient": {
      "deleting": false
     }
    }
   },
   "outputs": [],
   "source": [
    "# Modules\n",
    "import numpy as np\n",
    "import pandas as pd\n",
    "import matplotlib.pyplot as plt\n",
    "\n"
   ]
  },
  {
   "cell_type": "markdown",
   "metadata": {
    "nteract": {
     "transient": {
      "deleting": false
     }
    }
   },
   "source": [
    "## Classes"
   ]
  },
  {
   "cell_type": "code",
   "execution_count": 26,
   "metadata": {
    "nteract": {
     "transient": {
      "deleting": false
     }
    }
   },
   "outputs": [],
   "source": [
    "# Generative process class\n",
    "class GenProc:\n",
    "    def __init__(self, rng, x):\n",
    "\n",
    "        # Generative process parameters\n",
    "        self.SigmaGP_s = 0.1                        # Generative process s variance\n",
    "        self.SigmaGP_s1 = 0.1                       # Generative process s'\n",
    "        self.T0 = 100                               # Startup temperature\n",
    "\n",
    "        self.rng = rng                              # np.random.RandomState\n",
    "        self.x = x                                  # Two dimensional array storing agent position and velocity\n",
    "\n",
    "    def T(self):                                    # System temperature\n",
    "        return self.T0/(self.x[0]**2+1)\n",
    "\n",
    "    def T1(self):                                   # System temperature \"velocity\"\n",
    "        Tx = -2*self.T0*self.x[0]/((self.x[0]**1+1)**2)\n",
    "        return Tx*self.x[1]\n",
    "\n",
    "    def genS(self):                                 # Function that create agent's sensory input (two dimensional array)\n",
    "        s = np.zeros(2)\n",
    "        s[0] = self.SigmaGP_s*self.rng.randn() + self.T()\n",
    "        s[1] = self.SigmaGP_s1*self.rng.randn() + self.T1()\n",
    "        return s\n",
    "\n",
    "    def dynamic(self, dt):                             # Step of generative process dynamic\n",
    "        self.x[0] += dt*self.x[1]\n",
    "\n",
    "# Generative model class\n",
    "class GenMod:\n",
    "    def __init__(self, rng, dt, a, mu, s):\n",
    "\n",
    "        self.s = s                                  # Two dimensional array storing sensory input s and s'\n",
    "        self.a = a                                  # Action variable\n",
    "        self.mu = mu                                # Tree dimensional array storing brain state variables mu, mu' and mu''\n",
    "\n",
    "        # Generative model parameters\n",
    "        self.Td = 4                                 # Desired temperature\n",
    "        self.actionTime= 25                         # Variable that enable action only after a fixed amount of time\n",
    "        self.Sigma_s = 0.1                          # Generative model s variance (in this case we're assuming the agent knows gp variace)\n",
    "        self.Sigma_s1 = 0.1                         # Generative model s' variance (in this case we're assuming the agent knows gp variace)\n",
    "        self.Sigma_mu = 0.1                         # Generative model $\\mu$ variance\n",
    "        self.Sigma_mu1 = 0.1                        # Generative model $\\mu'$ variance\n",
    "        self.k_mu = 0.1*dt                          # Gradient descent inference parameter\n",
    "        self.k_a = 0.01*dt                          # Gradient descent action parameter\n",
    "\n",
    "    def f(self):                                    # f(mu) dynamics generative model\n",
    "        return -self.mu[0]+self.Td\n",
    "\n",
    "    def VFE(self):                                  # Variational Free Energy\n",
    "        epsilon_s = self.s[0] - self.mu[0]\n",
    "        epsilon_s1 = self.s[1] - self.mu[1]\n",
    "        epsilon_mu = self.mu[1] - self.f()\n",
    "        epsilon_mu1 = self.mu[2] + self.mu[1]\n",
    "        return 1/2*( espilon_s**2/self.Sigma_s + espilon_s1**2/self.Sigma_s1 + espilon_mu**2/self.Sigma_mu + espilon_mu1**2/self.Sigma_mu1 )\n",
    "\n",
    "    def update(self, dt, step, x, T0):\n",
    "        epsilon_s = self.s[0] - self.mu[0]\n",
    "        epsilon_s1 = self.s[1] - self.mu[1]\n",
    "        epsilon_mu = self.mu[1] - self.f()\n",
    "        epsilon_mu1 = self.mu[2] + self.mu[1]\n",
    "        self.mu[0] += dt*self.mu[1] - self.k_mu*( - epsilon_s/self.Sigma_s + epsilon_mu/self.Sigma_mu )\n",
    "        self.mu[1] += dt*self.mu[2] - self.k_mu*( - epsilon_s1/self.Sigma_s1 + epsilon_mu/self.Sigma_mu + epsilon_mu1/self.Sigma_mu1)\n",
    "        self.mu[2] += - self.k_mu*( epsilon_mu1/self.Sigma_mu1 )\n",
    "        if self.actionTime<=step*dt:\n",
    "            #Tx = -1                                # To try if you want to give a less precise inverse modet to the agent\n",
    "            Tx = -2*T0*x/((x**2+1)**2)\n",
    "            self.a += -self.k_a*Tx*epsilon_s1/self.Sigma_s1\n",
    "\n",
    "# Plotter class\n",
    "class Plotter:\n",
    "\n",
    "    def __init__(self, len_data):\n",
    "        self.fig = plt.figure(figsize=(12, 8))\n",
    "        self.ax = self.fig.add_subplot(111)\n",
    "        #self.line, = self.ax.plot(0, 0, lw=3, c=\"black\")\n",
    "        self.eq, = self.ax.plot(0, 0)\n",
    "        self.x = np.zeros(len_data)\n",
    "        self.y = np.zeros(len_data)\n",
    "        #self.eq, = self.ax.plot(self.x, self.y)\n",
    "\n",
    "    def update_data(self, i, x, y):\n",
    "        self.x[i] = x\n",
    "        self.y[i] = y\n",
    "\n",
    "    def update_plot(self, i):\n",
    "\n",
    "        self.eq.set_data(self.x[:i+1], self.y[i+1])\n",
    "        #self.ax.set_xlim(self.x[0], self.x[-1])\n",
    "        #self.ax.set_ylim(self.y[0], self.y[-1])\n",
    "        self.fig.canvas.draw()\n",
    "\n"
   ]
  },
  {
   "cell_type": "markdown",
   "metadata": {
    "nteract": {
     "transient": {
      "deleting": false
     }
    }
   },
   "source": [
    "## Simulation"
   ]
  },
  {
   "cell_type": "code",
   "execution_count": 27,
   "metadata": {
    "nteract": {
     "transient": {
      "deleting": false
     }
    }
   },
   "outputs": [],
   "source": [
    "if __name__ == \"__main__\":\n",
    "    simT = 100                                      # Simulation Time\n",
    "    dt = 0.005                                      # Time step lenght\n",
    "    steps = int(simT/dt)                            # Time step number\n",
    "    action = True                                   # Variable to enable action\n",
    "    rng = np.random.RandomState(42)\n",
    "    gp = GenProc( rng, x=np.zeros(2) )              # Initialising generative process\n",
    "    gp.x[0] = 2                                     # Agent starting point\n",
    "    gm = GenMod( rng, dt, s=np.zeros(2), mu=np.zeros(3), a=0 )\n",
    "                                                    # Initialasing generative model\n",
    "\n",
    "    #TvsSteps = Plotter(steps)                       # Initialasing Temperature dynamic plot\n",
    "    #TvsSteps.update(0, )\n",
    "    T = np.array([gp.T()])\n",
    "    pos = np.array([gp.x[0]])\n",
    "    act = np.array([gm.a])\n",
    "    for i in range(1,steps):\n",
    "        #print(i),\n",
    "        gp.x[1] = gm.a                              # Agent's action (set its own velocity)\n",
    "        gp.dynamic(dt)                              # The environment evolves following the dynamic given by x and x'\n",
    "        gm.s = gp.genS()                            # The generative process creates noisy sensory input that are percevied by the generative model\n",
    "        gm.update(dt, i, gp.x[0], gp.T0)            # The generative model update internal states mu, mu' and mu'' computing the dynamic,\n",
    "                                                    # and taking the VFE gradient descent (every step of the gradient descent is simultaneous with the internal\n",
    "                                                    # model updating step, that is an assumpion)\n",
    "        #TvsSteps.get_data(i*dt, gp.T())                  # Updating Temperature dynamic plot\n",
    "        T = np.append(T,np.array(gp.T()))\n",
    "        pos = np.append(pos,gp.x[0])\n",
    "        act = np.append(act,gm.a)\n",
    "    #TvsSteps.plt.show()\n"
   ]
  },
  {
   "cell_type": "code",
   "execution_count": 28,
   "metadata": {
    "nteract": {
     "transient": {
      "deleting": false
     }
    }
   },
   "outputs": [
    {
     "data": {
      "image/png": "[encoded data removed]",
      "text/plain": [
       "<Figure size 864x576 with 1 Axes>"
      ]
     },
     "metadata": {
      "needs_background": "light"
     },
     "output_type": "display_data"
    }
   ],
   "source": [
    "fig = plt.figure(figsize=(12,8))\n",
    "ax = fig.add_subplot(111)\n",
    "temp, = ax.plot(np.arange(steps)*dt, T)\n",
    "position, = ax.plot(np.arange(steps)*dt, pos)\n",
    "action, = ax.plot(np.arange(steps)*dt, act)\n",
    "#fig.canvas.draw()"
   ]
  }
 ],
 "metadata": {
  "kernelspec": {
   "display_name": "Python 3",
   "language": "python",
   "name": "python3"
  },
  "language_info": {
   "codemirror_mode": {
    "name": "ipython",
    "version": 3
   },
   "file_extension": ".py",
   "mimetype": "text/x-python",
   "name": "python",
   "nbconvert_exporter": "python",
   "pygments_lexer": "ipython3",
   "version": "3.8.6"
  }
 },
 "nbformat": 4,
 "nbformat_minor": 4
}
