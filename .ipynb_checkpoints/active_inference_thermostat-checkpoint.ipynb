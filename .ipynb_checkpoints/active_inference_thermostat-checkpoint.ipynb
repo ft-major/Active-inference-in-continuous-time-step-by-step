{
  "cells": [
    {
      "cell_type": "markdown",
      "source": [
        "# Example of Thermostat based on Active Inference\n",
        "this program is an example of an single agent-based active inference model,."
      ],
      "metadata": {
        "nteract": {
          "transient": {
            "deleting": false
          }
        }
      }
    },
    {
      "cell_type": "markdown",
      "source": [
        "## Generative process\n",
        "the _generative process_ consist of an agent that, depending on his 1-D position $x$,\n",
        "modifies the room temperature in the following manner\n",
        "$$\n",
        "T(x) = \\frac{ T_0 }{ x^2 + 1 }\n",
        "$$\n",
        "with $T_{0}$ temperature at the origin.\n",
        "\n",
        "The agent is allowed to sense both the local temperature and its temporal derivative. In particular\n",
        "$$\n",
        "s = T + z_{s}^{gp} \\\\\n",
        "s' = T' + z_{s'}^{gp} = \\frac{ \\partial T }{ \\partial x } \\frac{ \\partial x }{ \\partial t } + z_{s'}^{gp} = - \\frac{ 2x T_{0} }{ (x^2+1)^2 } x' + z_{s'}^{gp}\n",
        "$$\n",
        "where $z_{s}^{gp}$ and $z_{s'}^{gp}$ are normally distributed noise with zero mean and variances $\\Sigma_{s}^{gp}$ and $\\Sigma_{s'}^{gp}$\n",
        "(the gp superscript indicates that is part of the agent's environment described by the generative process and, for the moment, has nothing to do with the brain model).\n",
        "\n",
        "Finally, the agent is allowed to set its own velocity by setting it equal to the action variable $a$ as\n",
        "$$ x'=a $$"
      ],
      "metadata": {
        "nteract": {
          "transient": {
            "deleting": false
          }
        }
      }
    },
    {
      "cell_type": "markdown",
      "source": [
        "## Generative model\n",
        "\n",
        "let's specify the dynamical model of the brain that allows to build a minimization scheme for the VFE, remembering that with the **Laplace approximation**\n",
        "$$\n",
        "F \\equiv \\int Q(T) \\ln \\frac{Q(T)}{P(T,s)}dx \\approx L(\\mu,s) \\equiv - \\ln P(\\mu,s)\n",
        "$$\n",
        "we are assuming that the brain represents, through the brain state $\\mu$, only the most likely environmental cause T of sensory data s.\n",
        "\n",
        "Let's start assuming that the agent believes that the world's dynamic is given by an exact thermostat dynamic with differential equation\n",
        "$$\n",
        "\\mu' = f(\\mu) + z_{\\mu} \\text{with} \\quad f(\\mu) \\equiv - \\mu + T_{des} \\, .\n",
        "$$\n",
        "Using the local linearity approximation, the agent will represents up to the second order of $\\mu$:\n",
        "$$\n",
        "\\mu'' = \\frac{ \\partial f}{ \\partial \\mu } \\mu' + z_{\\mu'} \\\\\n",
        "\\mu''' = z_{\\mu''}\n",
        "$$\n",
        "Here the third term is specified to explain that, to consider the dynamic up to the second order,\n",
        "the next order is set equal only to a Gaussian noise with large variance $\\Sigma_{\\mu''}$ so that it can be effectively eliminated from the VFE expression.\n",
        "\n",
        "Is important to note that in this formulation the agent does not desire to be at $T_{des}$ (the prior $P(\\mu)$ is omitted since is a flat distribution),\n",
        "but believes in an environment with an equilibrium point at $T_{des}$ that works as attractor.\n"
      ],
      "metadata": {
        "nteract": {
          "transient": {
            "deleting": false
          }
        }
      }
    },
    {
      "cell_type": "markdown",
      "source": [
        "## Laplace-encoded Energy\n",
        "Now we can write explicitly the joint density $P(\\mu,s)$\n",
        "$$\n",
        "P(\\tilde{\\mu}, \\tilde{s}) \\simeq P(s|\\mu) P(s'|\\mu') P(\\mu'|\\mu) P(\\mu''|\\mu') = \\mathcal{N}(s;\\mu,\\Sigma_{s}) \\mathcal{N}(s';\\mu',\\Sigma_{s'}) \\mathcal{N}(\\mu';\\mu-T_{des},\\Sigma_{\\mu}) \\mathcal{N}(\\mu'';-\\mu',\\Sigma_{\\mu'})\n",
        "$$\n",
        "that leads to a Variational Free Energy approximated a the Laplace-encoded Energy\n",
        "$$\n",
        "L(\\tilde{\\mu}, \\tilde{s}) = \\frac{ 1 }{ 2 } \\left[ \\frac{ \\varepsilon_{s}^2 }{ \\Sigma_{s} } + \\frac{ \\varepsilon_{s'}^2 }{ \\Sigma_{s'} } +\n",
        "\\frac{ \\varepsilon_{\\mu}^2 }{ \\Sigma_{\\mu} } + \\frac{ \\varepsilon_{\\mu'}^2 }{ \\Sigma_{\\mu'} } \\right] + \\frac{ 1 }{ 2 } \\ln (\\Sigma_{s} \\Sigma_{s'} \\Sigma_{\\mu} \\Sigma_{\\mu'}) + 2 \\ln (2\\pi)\n",
        "$$\n",
        "with\n",
        "$$\n",
        "\\begin{aligned}\n",
        "\\varepsilon_{s} &= s-\\mu \\\\\n",
        "\\varepsilon_{s'} &= s'-\\mu' \\\\\n",
        "\\varepsilon_{\\mu} &= \\mu'+\\mu-T_{des} \\\\\n",
        "\\varepsilon_{\\mu'} &= \\mu''+\\mu'\n",
        "\\end{aligned}\n",
        "$$"
      ],
      "metadata": {
        "nteract": {
          "transient": {
            "deleting": false
          }
        }
      }
    },
    {
      "cell_type": "markdown",
      "source": [
        "## Gradient descent\n",
        "\n",
        "In the Active Inference framework, the agent uses a gradient descent scheme to minimize VFE. In particular, the brain state variables $\\tilde{\\mu}$ will be updated following\n",
        "$$\n",
        "\\begin{aligned}\n",
        "\\mu(t+dt) &= \\mu(t) + \\mu'(t) dt - k_{\\mu} \\frac{ \\partial L }{ \\partial \\mu } = \\mu(t) + \\mu'(t) dt - k_{\\mu} \\left[ -\\frac{ \\varepsilon_s }{ \\Sigma_{s} } + \\frac{ \\varepsilon_{\\mu} }{ \\Sigma_{\\mu} } \\right] \\\\\n",
        "\\mu'(t+dt) &= \\mu'(t) + \\mu''(t) dt - k_{\\mu} \\frac{ \\partial L }{ \\partial \\mu' } = \\mu'(t) + \\mu'(t) dt - k_{\\mu} \\left[ -\\frac{ \\varepsilon_{s'} }{ \\Sigma_{s'} } + \\frac{ \\varepsilon_{\\mu} }{ \\Sigma_{\\mu} } + \\frac{ \\varepsilon_{\\mu'} }{ \\Sigma_{\\mu'} } \\right] \\\\\n",
        "\\mu''(t+dt) &= \\mu''(t) - k_{\\mu} \\frac{ \\partial L }{ \\partial \\mu'' } = \\mu''(t) - k_{\\mu} \\left[ \\frac{ \\varepsilon_{\\mu'} }{ \\Sigma_{\\mu'} } \\right]\n",
        "\\end{aligned}\n",
        "$$\n",
        "with the $k_{\\mu}$ parameter to be tuned."
      ],
      "metadata": {
        "nteract": {
          "transient": {
            "deleting": false
          }
        }
      }
    },
    {
      "cell_type": "markdown",
      "source": [
        "## Action\n",
        "To perform an action the agent has to minimize, always through a gradient denscent, the VFE with respect to the action variable, that in this case is equal to $x'$ since the agent is allowed to set is own velocity.\n",
        "\n",
        "Here we are assuming that the agent has also an inverse model that allows it to know the effects of its actions on the sensory imputs (i.e. it knows that $\\mu(x) = \\frac{ T_0 }{ x^2 +1 }$ and $\\mu'(x,x')=\\frac{ d\\mu }{ dx } x' = -T_0\\frac{ 2x }{ (x^2+1)^2 } x'$ )\n",
        "$$\n",
        "\\begin{aligned}\n",
        "\\frac{ ds }{ da } &= \\frac{ ds }{ dx' } = \\frac{ d }{ dx' } (\\mu + z_{\\mu}) = 0 \\\\\n",
        "\\frac{ ds' }{ da } &= \\frac{ ds' }{ dx' } = \\frac{ d }{ dx' } (\\mu' + z_{\\mu'}) = \\frac{ d\\mu' }{ dx' } = -T_0\\frac{ 2x }{ (x^2+1)^2 }\n",
        "\\end{aligned}\n",
        "$$\n",
        "Using this inverse model the gradient descent with restpec to action will be\n",
        "$$\n",
        "x'(t+dt) = x'(t) - k_{a} \\left[ \\frac{ \\partial F }{ \\partial x' } \\right] = x'(t) - k_{a} \\left[ \\frac{ \\partial F }{ \\partial s' } \\frac{ \\partial s' }{ dx' } \\right] = x'(t) - k_{a} \\left[ \\frac{ \\varepsilon_{s'} }{ \\Sigma_{s'} } (-T_0\\frac{ 2x }{ (x^2+1)^2 }) \\right]\n",
        "$$\n"
      ],
      "metadata": {
        "nteract": {
          "transient": {
            "deleting": false
          }
        }
      }
    },
    {
      "cell_type": "markdown",
      "source": [
        "# Code\n"
      ],
      "metadata": {
        "nteract": {
          "transient": {
            "deleting": false
          }
        }
      }
    },
    {
      "cell_type": "markdown",
      "source": [
        " ## Functions\n",
        "print(5+6)"
      ],
      "metadata": {
        "nteract": {
          "transient": {
            "deleting": false
          }
        }
      }
    }
  ],
  "metadata": {
    "kernelspec": {
      "argv": [
        "python",
        "-m",
        "ipykernel_launcher",
        "-f",
        "{connection_file}"
      ],
      "display_name": "Python 3",
      "language": "python",
      "name": "python3"
    }
  },
  "nbformat": 4,
  "nbformat_minor": 0
}